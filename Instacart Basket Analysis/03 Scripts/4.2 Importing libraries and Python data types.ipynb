{
 "cells": [
  {
   "cell_type": "markdown",
   "id": "ab9b035d",
   "metadata": {},
   "source": [
    "# 01. Importing Libraries"
   ]
  },
  {
   "cell_type": "code",
   "execution_count": null,
   "id": "a68c4056",
   "metadata": {},
   "outputs": [],
   "source": [
    "# Import libraries\n",
    "import pandas as pd\n",
    "import numpy as np\n",
    "import os"
   ]
  },
  {
   "cell_type": "markdown",
   "id": "da335318",
   "metadata": {},
   "source": [
    "# 02. Data Types"
   ]
  },
  {
   "cell_type": "code",
   "execution_count": 6,
   "id": "34fed54d",
   "metadata": {},
   "outputs": [
    {
     "name": "stdout",
     "output_type": "stream",
     "text": [
      "100\n",
      "100\n",
      "100\n"
     ]
    }
   ],
   "source": [
    "# 01. Data types - Integer\n",
    "x = 25\n",
    "x = x + 75\n",
    "\n",
    "y = 150\n",
    "y = y - 50\n",
    "\n",
    "z = 50\n",
    "z = 100 + x - y  \n",
    "\n",
    "print(x)\n",
    "print(y)\n",
    "print(z)"
   ]
  },
  {
   "cell_type": "code",
   "execution_count": 7,
   "id": "e576288c",
   "metadata": {},
   "outputs": [
    {
     "name": "stdout",
     "output_type": "stream",
     "text": [
      "5.76036866359447\n"
     ]
    }
   ],
   "source": [
    "# 02. Data types - Floating-point\n",
    "a = 3.472\n",
    "b = 20\n",
    "c = b/a\n",
    "\n",
    "print(c)"
   ]
  },
  {
   "cell_type": "code",
   "execution_count": 8,
   "id": "4f1d27f2",
   "metadata": {},
   "outputs": [
    {
     "name": "stdout",
     "output_type": "stream",
     "text": [
      "Hello,Ishii\n"
     ]
    }
   ],
   "source": [
    "# 03. Data types - Strings\n",
    "d = 'Hello,'\n",
    "e = 'Ishii'\n",
    "great = d + e\n",
    "\n",
    "print(great)"
   ]
  },
  {
   "cell_type": "code",
   "execution_count": 9,
   "id": "d84fcbfb",
   "metadata": {},
   "outputs": [
    {
     "name": "stdout",
     "output_type": "stream",
     "text": [
      "I am a data analyst. I love Python programming.\n"
     ]
    }
   ],
   "source": [
    "# 04. Data types - Short Sentence with Separate Strings\n",
    "f = 'I am a data analyst. '\n",
    "g = 'I love Python programming.'\n",
    "sentence = f + g\n",
    "\n",
    "print(sentence)"
   ]
  },
  {
   "cell_type": "code",
   "execution_count": null,
   "id": "878bbbe5",
   "metadata": {},
   "outputs": [],
   "source": []
  }
 ],
 "metadata": {
  "kernelspec": {
   "display_name": "Python 3 (ipykernel)",
   "language": "python",
   "name": "python3"
  },
  "language_info": {
   "codemirror_mode": {
    "name": "ipython",
    "version": 3
   },
   "file_extension": ".py",
   "mimetype": "text/x-python",
   "name": "python",
   "nbconvert_exporter": "python",
   "pygments_lexer": "ipython3",
   "version": "3.9.12"
  }
 },
 "nbformat": 4,
 "nbformat_minor": 5
}
