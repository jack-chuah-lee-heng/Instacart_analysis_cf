{
 "cells": [
  {
   "cell_type": "markdown",
   "id": "d818ca83",
   "metadata": {},
   "source": [
    "# 01. Importing Libraries"
   ]
  },
  {
   "cell_type": "code",
   "execution_count": 40,
   "id": "5a6b4246",
   "metadata": {},
   "outputs": [],
   "source": [
    "# Import libraries\n",
    "\n",
    "import pandas as pd\n",
    "import numpy as np\n",
    "import os\n",
    "import matplotlib.pyplot as plt\n",
    "import seaborn as sns\n",
    "import scipy"
   ]
  },
  {
   "cell_type": "markdown",
   "id": "46ff336f",
   "metadata": {},
   "source": [
    "# 02. Importing Data"
   ]
  },
  {
   "cell_type": "code",
   "execution_count": 41,
   "id": "05de133e",
   "metadata": {},
   "outputs": [],
   "source": [
    "# Import the data set into Jupyter as a new dataframe\n",
    "path = r'/Users/ChuahLH/Desktop/Documents/Instacart Basket Analysis'"
   ]
  },
  {
   "cell_type": "code",
   "execution_count": 42,
   "id": "f42b8c67",
   "metadata": {},
   "outputs": [],
   "source": [
    "# Import the final merged dataframe\n",
    "df_merged = pd.read_pickle(os.path.join(path, '02 Data','Prepared Data', 'df_merged_final.pkl'))"
   ]
  },
  {
   "cell_type": "markdown",
   "id": "dcf37a90",
   "metadata": {},
   "source": [
    "# 03. Investigate the Data Frame"
   ]
  },
  {
   "cell_type": "code",
   "execution_count": 43,
   "id": "eee0e3ef",
   "metadata": {},
   "outputs": [
    {
     "data": {
      "text/html": [
       "<div>\n",
       "<style scoped>\n",
       "    .dataframe tbody tr th:only-of-type {\n",
       "        vertical-align: middle;\n",
       "    }\n",
       "\n",
       "    .dataframe tbody tr th {\n",
       "        vertical-align: top;\n",
       "    }\n",
       "\n",
       "    .dataframe thead th {\n",
       "        text-align: right;\n",
       "    }\n",
       "</style>\n",
       "<table border=\"1\" class=\"dataframe\">\n",
       "  <thead>\n",
       "    <tr style=\"text-align: right;\">\n",
       "      <th></th>\n",
       "      <th>Unnamed: 0_x</th>\n",
       "      <th>order_id</th>\n",
       "      <th>user_id</th>\n",
       "      <th>order_number</th>\n",
       "      <th>orders_day_of_week</th>\n",
       "      <th>order_hour_of_day</th>\n",
       "      <th>days_since_last_order</th>\n",
       "      <th>product_id</th>\n",
       "      <th>add_to_cart_order</th>\n",
       "      <th>reordered</th>\n",
       "      <th>...</th>\n",
       "      <th>Frequency_flag</th>\n",
       "      <th>first_name</th>\n",
       "      <th>last_name</th>\n",
       "      <th>gender</th>\n",
       "      <th>state</th>\n",
       "      <th>age</th>\n",
       "      <th>date_joined</th>\n",
       "      <th>number_of_dependants</th>\n",
       "      <th>family_status</th>\n",
       "      <th>income</th>\n",
       "    </tr>\n",
       "  </thead>\n",
       "  <tbody>\n",
       "    <tr>\n",
       "      <th>0</th>\n",
       "      <td>0</td>\n",
       "      <td>2539329</td>\n",
       "      <td>1</td>\n",
       "      <td>1</td>\n",
       "      <td>2</td>\n",
       "      <td>8</td>\n",
       "      <td>NaN</td>\n",
       "      <td>196.0</td>\n",
       "      <td>1.0</td>\n",
       "      <td>0.0</td>\n",
       "      <td>...</td>\n",
       "      <td>Non-Frequent customer</td>\n",
       "      <td>Linda</td>\n",
       "      <td>Nguyen</td>\n",
       "      <td>Female</td>\n",
       "      <td>Alabama</td>\n",
       "      <td>31</td>\n",
       "      <td>2/17/2019</td>\n",
       "      <td>3</td>\n",
       "      <td>married</td>\n",
       "      <td>40423</td>\n",
       "    </tr>\n",
       "    <tr>\n",
       "      <th>1</th>\n",
       "      <td>1</td>\n",
       "      <td>2398795</td>\n",
       "      <td>1</td>\n",
       "      <td>2</td>\n",
       "      <td>3</td>\n",
       "      <td>7</td>\n",
       "      <td>15.0</td>\n",
       "      <td>196.0</td>\n",
       "      <td>1.0</td>\n",
       "      <td>1.0</td>\n",
       "      <td>...</td>\n",
       "      <td>Non-Frequent customer</td>\n",
       "      <td>Linda</td>\n",
       "      <td>Nguyen</td>\n",
       "      <td>Female</td>\n",
       "      <td>Alabama</td>\n",
       "      <td>31</td>\n",
       "      <td>2/17/2019</td>\n",
       "      <td>3</td>\n",
       "      <td>married</td>\n",
       "      <td>40423</td>\n",
       "    </tr>\n",
       "    <tr>\n",
       "      <th>2</th>\n",
       "      <td>2</td>\n",
       "      <td>473747</td>\n",
       "      <td>1</td>\n",
       "      <td>3</td>\n",
       "      <td>3</td>\n",
       "      <td>12</td>\n",
       "      <td>21.0</td>\n",
       "      <td>196.0</td>\n",
       "      <td>1.0</td>\n",
       "      <td>1.0</td>\n",
       "      <td>...</td>\n",
       "      <td>Non-Frequent customer</td>\n",
       "      <td>Linda</td>\n",
       "      <td>Nguyen</td>\n",
       "      <td>Female</td>\n",
       "      <td>Alabama</td>\n",
       "      <td>31</td>\n",
       "      <td>2/17/2019</td>\n",
       "      <td>3</td>\n",
       "      <td>married</td>\n",
       "      <td>40423</td>\n",
       "    </tr>\n",
       "    <tr>\n",
       "      <th>3</th>\n",
       "      <td>3</td>\n",
       "      <td>2254736</td>\n",
       "      <td>1</td>\n",
       "      <td>4</td>\n",
       "      <td>4</td>\n",
       "      <td>7</td>\n",
       "      <td>29.0</td>\n",
       "      <td>196.0</td>\n",
       "      <td>1.0</td>\n",
       "      <td>1.0</td>\n",
       "      <td>...</td>\n",
       "      <td>Non-Frequent customer</td>\n",
       "      <td>Linda</td>\n",
       "      <td>Nguyen</td>\n",
       "      <td>Female</td>\n",
       "      <td>Alabama</td>\n",
       "      <td>31</td>\n",
       "      <td>2/17/2019</td>\n",
       "      <td>3</td>\n",
       "      <td>married</td>\n",
       "      <td>40423</td>\n",
       "    </tr>\n",
       "    <tr>\n",
       "      <th>4</th>\n",
       "      <td>4</td>\n",
       "      <td>431534</td>\n",
       "      <td>1</td>\n",
       "      <td>5</td>\n",
       "      <td>4</td>\n",
       "      <td>15</td>\n",
       "      <td>28.0</td>\n",
       "      <td>196.0</td>\n",
       "      <td>1.0</td>\n",
       "      <td>1.0</td>\n",
       "      <td>...</td>\n",
       "      <td>Non-Frequent customer</td>\n",
       "      <td>Linda</td>\n",
       "      <td>Nguyen</td>\n",
       "      <td>Female</td>\n",
       "      <td>Alabama</td>\n",
       "      <td>31</td>\n",
       "      <td>2/17/2019</td>\n",
       "      <td>3</td>\n",
       "      <td>married</td>\n",
       "      <td>40423</td>\n",
       "    </tr>\n",
       "  </tbody>\n",
       "</table>\n",
       "<p>5 rows × 36 columns</p>\n",
       "</div>"
      ],
      "text/plain": [
       "   Unnamed: 0_x  order_id  user_id  order_number  orders_day_of_week  \\\n",
       "0             0   2539329        1             1                   2   \n",
       "1             1   2398795        1             2                   3   \n",
       "2             2    473747        1             3                   3   \n",
       "3             3   2254736        1             4                   4   \n",
       "4             4    431534        1             5                   4   \n",
       "\n",
       "   order_hour_of_day  days_since_last_order  product_id  add_to_cart_order  \\\n",
       "0                  8                    NaN       196.0                1.0   \n",
       "1                  7                   15.0       196.0                1.0   \n",
       "2                 12                   21.0       196.0                1.0   \n",
       "3                  7                   29.0       196.0                1.0   \n",
       "4                 15                   28.0       196.0                1.0   \n",
       "\n",
       "   reordered  ...         Frequency_flag first_name  last_name  gender  \\\n",
       "0        0.0  ...  Non-Frequent customer      Linda     Nguyen  Female   \n",
       "1        1.0  ...  Non-Frequent customer      Linda     Nguyen  Female   \n",
       "2        1.0  ...  Non-Frequent customer      Linda     Nguyen  Female   \n",
       "3        1.0  ...  Non-Frequent customer      Linda     Nguyen  Female   \n",
       "4        1.0  ...  Non-Frequent customer      Linda     Nguyen  Female   \n",
       "\n",
       "     state age date_joined number_of_dependants family_status income  \n",
       "0  Alabama  31   2/17/2019                    3       married  40423  \n",
       "1  Alabama  31   2/17/2019                    3       married  40423  \n",
       "2  Alabama  31   2/17/2019                    3       married  40423  \n",
       "3  Alabama  31   2/17/2019                    3       married  40423  \n",
       "4  Alabama  31   2/17/2019                    3       married  40423  \n",
       "\n",
       "[5 rows x 36 columns]"
      ]
     },
     "execution_count": 43,
     "metadata": {},
     "output_type": "execute_result"
    }
   ],
   "source": [
    "df_merged.head()"
   ]
  },
  {
   "cell_type": "code",
   "execution_count": 44,
   "id": "bfac99d7",
   "metadata": {},
   "outputs": [
    {
     "data": {
      "text/plain": [
       "(32406041, 36)"
      ]
     },
     "execution_count": 44,
     "metadata": {},
     "output_type": "execute_result"
    }
   ],
   "source": [
    "df_merged.shape"
   ]
  },
  {
   "cell_type": "markdown",
   "id": "4f2f7ad9",
   "metadata": {},
   "source": [
    "# 04. Create a bar chart, a histogram, a scatterplot, and a line chart"
   ]
  },
  {
   "cell_type": "code",
   "execution_count": 45,
   "id": "d3b502ee",
   "metadata": {},
   "outputs": [
    {
     "data": {
      "text/plain": [
       "0    6204404\n",
       "1    5660456\n",
       "6    4496635\n",
       "2    4213986\n",
       "5    4205906\n",
       "3    3840701\n",
       "4    3783953\n",
       "Name: orders_day_of_week, dtype: int64"
      ]
     },
     "execution_count": 45,
     "metadata": {},
     "output_type": "execute_result"
    }
   ],
   "source": [
    "# Create a bar-chart\n",
    "df_merged['orders_day_of_week'].value_counts()"
   ]
  },
  {
   "cell_type": "code",
   "execution_count": 46,
   "id": "13b3d1e1",
   "metadata": {},
   "outputs": [
    {
     "data": {
      "text/plain": [
       "0    6204404\n",
       "1    5660456\n",
       "2    4213986\n",
       "3    3840701\n",
       "4    3783953\n",
       "5    4205906\n",
       "6    4496635\n",
       "Name: orders_day_of_week, dtype: int64"
      ]
     },
     "execution_count": 46,
     "metadata": {},
     "output_type": "execute_result"
    }
   ],
   "source": [
    "df_merged['orders_day_of_week'].value_counts().sort_index()"
   ]
  },
  {
   "cell_type": "code",
   "execution_count": 47,
   "id": "8920deff",
   "metadata": {},
   "outputs": [
    {
     "data": {
      "image/png": "[encoded data removed]",
      "text/plain": [
       "<Figure size 432x288 with 1 Axes>"
      ]
     },
     "metadata": {
      "needs_background": "light"
     },
     "output_type": "display_data"
    }
   ],
   "source": [
    "bar = df_merged['orders_day_of_week'].value_counts().plot.bar(color = ['purple','red','pink','orange','yellow','green','blue'])"
   ]
  },
  {
   "cell_type": "code",
   "execution_count": 48,
   "id": "faa1d62a",
   "metadata": {},
   "outputs": [],
   "source": [
    "bar.figure.savefig(os.path.join(path, '04 Analysis', 'Visualisations', 'bar_orders_dow.png'))"
   ]
  },
  {
   "cell_type": "code",
   "execution_count": 49,
   "id": "43560e68",
   "metadata": {},
   "outputs": [
    {
     "data": {
      "text/plain": [
       "<AxesSubplot:ylabel='Frequency'>"
      ]
     },
     "execution_count": 49,
     "metadata": {},
     "output_type": "execute_result"
    },
    {
     "data": {
      "image/png": "[encoded data removed]",
      "text/plain": [
       "<Figure size 432x288 with 1 Axes>"
      ]
     },
     "metadata": {
      "needs_background": "light"
     },
     "output_type": "display_data"
    }
   ],
   "source": [
    "# Create a histograms\n",
    "df_merged['prices'].plot.hist(bins = 70)"
   ]
  },
  {
   "cell_type": "code",
   "execution_count": 50,
   "id": "c41a0242",
   "metadata": {},
   "outputs": [
    {
     "data": {
      "text/plain": [
       "count    3.240604e+07\n",
       "mean     1.198004e+01\n",
       "std      4.956464e+02\n",
       "min      1.000000e+00\n",
       "25%      4.200000e+00\n",
       "50%      7.400000e+00\n",
       "75%      1.130000e+01\n",
       "max      9.999900e+04\n",
       "Name: prices, dtype: float64"
      ]
     },
     "execution_count": 50,
     "metadata": {},
     "output_type": "execute_result"
    }
   ],
   "source": [
    "df_merged['prices'].describe()"
   ]
  },
  {
   "cell_type": "code",
   "execution_count": 51,
   "id": "ad481e20",
   "metadata": {},
   "outputs": [
    {
     "data": {
      "text/plain": [
       "<AxesSubplot:xlabel='prices', ylabel='prices'>"
      ]
     },
     "execution_count": 51,
     "metadata": {},
     "output_type": "execute_result"
    },
    {
     "data": {
      "image/png": "[encoded data removed]",
      "text/plain": [
       "<Figure size 432x288 with 1 Axes>"
      ]
     },
     "metadata": {
      "needs_background": "light"
     },
     "output_type": "display_data"
    }
   ],
   "source": [
    "# Create a scatterplot\n",
    "sns.scatterplot(x = 'prices', y = 'prices', data = df_merged)"
   ]
  },
  {
   "cell_type": "code",
   "execution_count": 52,
   "id": "a701e907",
   "metadata": {},
   "outputs": [
    {
     "data": {
      "text/html": [
       "<div>\n",
       "<style scoped>\n",
       "    .dataframe tbody tr th:only-of-type {\n",
       "        vertical-align: middle;\n",
       "    }\n",
       "\n",
       "    .dataframe tbody tr th {\n",
       "        vertical-align: top;\n",
       "    }\n",
       "\n",
       "    .dataframe thead th {\n",
       "        text-align: right;\n",
       "    }\n",
       "</style>\n",
       "<table border=\"1\" class=\"dataframe\">\n",
       "  <thead>\n",
       "    <tr style=\"text-align: right;\">\n",
       "      <th></th>\n",
       "      <th>Unnamed: 0_x</th>\n",
       "      <th>order_id</th>\n",
       "      <th>user_id</th>\n",
       "      <th>order_number</th>\n",
       "      <th>orders_day_of_week</th>\n",
       "      <th>order_hour_of_day</th>\n",
       "      <th>days_since_last_order</th>\n",
       "      <th>product_id</th>\n",
       "      <th>add_to_cart_order</th>\n",
       "      <th>reordered</th>\n",
       "      <th>...</th>\n",
       "      <th>Frequency_flag</th>\n",
       "      <th>first_name</th>\n",
       "      <th>last_name</th>\n",
       "      <th>gender</th>\n",
       "      <th>state</th>\n",
       "      <th>age</th>\n",
       "      <th>date_joined</th>\n",
       "      <th>number_of_dependants</th>\n",
       "      <th>family_status</th>\n",
       "      <th>income</th>\n",
       "    </tr>\n",
       "  </thead>\n",
       "  <tbody>\n",
       "    <tr>\n",
       "      <th>7805</th>\n",
       "      <td>24261</td>\n",
       "      <td>1435153</td>\n",
       "      <td>1519</td>\n",
       "      <td>26</td>\n",
       "      <td>2</td>\n",
       "      <td>11</td>\n",
       "      <td>6.0</td>\n",
       "      <td>21553.0</td>\n",
       "      <td>15.0</td>\n",
       "      <td>0.0</td>\n",
       "      <td>...</td>\n",
       "      <td>Frequent customer</td>\n",
       "      <td>Craig</td>\n",
       "      <td>Clark</td>\n",
       "      <td>Male</td>\n",
       "      <td>Rhode Island</td>\n",
       "      <td>68</td>\n",
       "      <td>3/4/2020</td>\n",
       "      <td>0</td>\n",
       "      <td>divorced/widowed</td>\n",
       "      <td>177864</td>\n",
       "    </tr>\n",
       "    <tr>\n",
       "      <th>7806</th>\n",
       "      <td>24267</td>\n",
       "      <td>1066435</td>\n",
       "      <td>1519</td>\n",
       "      <td>32</td>\n",
       "      <td>3</td>\n",
       "      <td>10</td>\n",
       "      <td>5.0</td>\n",
       "      <td>21553.0</td>\n",
       "      <td>28.0</td>\n",
       "      <td>1.0</td>\n",
       "      <td>...</td>\n",
       "      <td>Frequent customer</td>\n",
       "      <td>Craig</td>\n",
       "      <td>Clark</td>\n",
       "      <td>Male</td>\n",
       "      <td>Rhode Island</td>\n",
       "      <td>68</td>\n",
       "      <td>3/4/2020</td>\n",
       "      <td>0</td>\n",
       "      <td>divorced/widowed</td>\n",
       "      <td>177864</td>\n",
       "    </tr>\n",
       "    <tr>\n",
       "      <th>15143</th>\n",
       "      <td>39073</td>\n",
       "      <td>1697208</td>\n",
       "      <td>2409</td>\n",
       "      <td>33</td>\n",
       "      <td>1</td>\n",
       "      <td>19</td>\n",
       "      <td>5.0</td>\n",
       "      <td>21553.0</td>\n",
       "      <td>1.0</td>\n",
       "      <td>0.0</td>\n",
       "      <td>...</td>\n",
       "      <td>Frequent customer</td>\n",
       "      <td>Nicole</td>\n",
       "      <td>Odonnell</td>\n",
       "      <td>Female</td>\n",
       "      <td>Hawaii</td>\n",
       "      <td>55</td>\n",
       "      <td>11/11/2018</td>\n",
       "      <td>2</td>\n",
       "      <td>married</td>\n",
       "      <td>230074</td>\n",
       "    </tr>\n",
       "    <tr>\n",
       "      <th>20264</th>\n",
       "      <td>57126</td>\n",
       "      <td>965345</td>\n",
       "      <td>3531</td>\n",
       "      <td>27</td>\n",
       "      <td>2</td>\n",
       "      <td>19</td>\n",
       "      <td>8.0</td>\n",
       "      <td>33664.0</td>\n",
       "      <td>2.0</td>\n",
       "      <td>0.0</td>\n",
       "      <td>...</td>\n",
       "      <td>Regular customer</td>\n",
       "      <td>Alice</td>\n",
       "      <td>Compton</td>\n",
       "      <td>Female</td>\n",
       "      <td>Hawaii</td>\n",
       "      <td>80</td>\n",
       "      <td>10/6/2019</td>\n",
       "      <td>2</td>\n",
       "      <td>married</td>\n",
       "      <td>233776</td>\n",
       "    </tr>\n",
       "    <tr>\n",
       "      <th>20497</th>\n",
       "      <td>61481</td>\n",
       "      <td>2943740</td>\n",
       "      <td>3793</td>\n",
       "      <td>1</td>\n",
       "      <td>2</td>\n",
       "      <td>9</td>\n",
       "      <td>NaN</td>\n",
       "      <td>21553.0</td>\n",
       "      <td>3.0</td>\n",
       "      <td>0.0</td>\n",
       "      <td>...</td>\n",
       "      <td>Regular customer</td>\n",
       "      <td>Jerry</td>\n",
       "      <td>Allen</td>\n",
       "      <td>Male</td>\n",
       "      <td>Louisiana</td>\n",
       "      <td>59</td>\n",
       "      <td>8/23/2019</td>\n",
       "      <td>3</td>\n",
       "      <td>married</td>\n",
       "      <td>182933</td>\n",
       "    </tr>\n",
       "    <tr>\n",
       "      <th>...</th>\n",
       "      <td>...</td>\n",
       "      <td>...</td>\n",
       "      <td>...</td>\n",
       "      <td>...</td>\n",
       "      <td>...</td>\n",
       "      <td>...</td>\n",
       "      <td>...</td>\n",
       "      <td>...</td>\n",
       "      <td>...</td>\n",
       "      <td>...</td>\n",
       "      <td>...</td>\n",
       "      <td>...</td>\n",
       "      <td>...</td>\n",
       "      <td>...</td>\n",
       "      <td>...</td>\n",
       "      <td>...</td>\n",
       "      <td>...</td>\n",
       "      <td>...</td>\n",
       "      <td>...</td>\n",
       "      <td>...</td>\n",
       "      <td>...</td>\n",
       "    </tr>\n",
       "    <tr>\n",
       "      <th>32304980</th>\n",
       "      <td>854612</td>\n",
       "      <td>3265389</td>\n",
       "      <td>51346</td>\n",
       "      <td>4</td>\n",
       "      <td>1</td>\n",
       "      <td>17</td>\n",
       "      <td>13.0</td>\n",
       "      <td>33664.0</td>\n",
       "      <td>2.0</td>\n",
       "      <td>1.0</td>\n",
       "      <td>...</td>\n",
       "      <td>Regular customer</td>\n",
       "      <td>nan</td>\n",
       "      <td>Gould</td>\n",
       "      <td>Male</td>\n",
       "      <td>Rhode Island</td>\n",
       "      <td>58</td>\n",
       "      <td>1/25/2019</td>\n",
       "      <td>1</td>\n",
       "      <td>married</td>\n",
       "      <td>207497</td>\n",
       "    </tr>\n",
       "    <tr>\n",
       "      <th>32309063</th>\n",
       "      <td>2186800</td>\n",
       "      <td>1179092</td>\n",
       "      <td>131671</td>\n",
       "      <td>12</td>\n",
       "      <td>4</td>\n",
       "      <td>9</td>\n",
       "      <td>15.0</td>\n",
       "      <td>33664.0</td>\n",
       "      <td>1.0</td>\n",
       "      <td>0.0</td>\n",
       "      <td>...</td>\n",
       "      <td>Regular customer</td>\n",
       "      <td>Diana</td>\n",
       "      <td>Hansen</td>\n",
       "      <td>Female</td>\n",
       "      <td>Rhode Island</td>\n",
       "      <td>35</td>\n",
       "      <td>8/4/2018</td>\n",
       "      <td>0</td>\n",
       "      <td>single</td>\n",
       "      <td>86490</td>\n",
       "    </tr>\n",
       "    <tr>\n",
       "      <th>32311991</th>\n",
       "      <td>658416</td>\n",
       "      <td>1226705</td>\n",
       "      <td>39667</td>\n",
       "      <td>7</td>\n",
       "      <td>2</td>\n",
       "      <td>15</td>\n",
       "      <td>20.0</td>\n",
       "      <td>33664.0</td>\n",
       "      <td>14.0</td>\n",
       "      <td>0.0</td>\n",
       "      <td>...</td>\n",
       "      <td>Non-Frequent customer</td>\n",
       "      <td>Johnny</td>\n",
       "      <td>Colon</td>\n",
       "      <td>Male</td>\n",
       "      <td>Rhode Island</td>\n",
       "      <td>78</td>\n",
       "      <td>5/8/2019</td>\n",
       "      <td>2</td>\n",
       "      <td>married</td>\n",
       "      <td>195077</td>\n",
       "    </tr>\n",
       "    <tr>\n",
       "      <th>32331229</th>\n",
       "      <td>1583942</td>\n",
       "      <td>3000037</td>\n",
       "      <td>95105</td>\n",
       "      <td>2</td>\n",
       "      <td>4</td>\n",
       "      <td>19</td>\n",
       "      <td>22.0</td>\n",
       "      <td>33664.0</td>\n",
       "      <td>4.0</td>\n",
       "      <td>0.0</td>\n",
       "      <td>...</td>\n",
       "      <td>Frequent customer</td>\n",
       "      <td>Catherine</td>\n",
       "      <td>Browning</td>\n",
       "      <td>Female</td>\n",
       "      <td>South Carolina</td>\n",
       "      <td>48</td>\n",
       "      <td>1/18/2017</td>\n",
       "      <td>2</td>\n",
       "      <td>married</td>\n",
       "      <td>398880</td>\n",
       "    </tr>\n",
       "    <tr>\n",
       "      <th>32331230</th>\n",
       "      <td>1583944</td>\n",
       "      <td>2741225</td>\n",
       "      <td>95105</td>\n",
       "      <td>4</td>\n",
       "      <td>5</td>\n",
       "      <td>12</td>\n",
       "      <td>2.0</td>\n",
       "      <td>33664.0</td>\n",
       "      <td>3.0</td>\n",
       "      <td>1.0</td>\n",
       "      <td>...</td>\n",
       "      <td>Frequent customer</td>\n",
       "      <td>Catherine</td>\n",
       "      <td>Browning</td>\n",
       "      <td>Female</td>\n",
       "      <td>South Carolina</td>\n",
       "      <td>48</td>\n",
       "      <td>1/18/2017</td>\n",
       "      <td>2</td>\n",
       "      <td>married</td>\n",
       "      <td>398880</td>\n",
       "    </tr>\n",
       "  </tbody>\n",
       "</table>\n",
       "<p>5127 rows × 36 columns</p>\n",
       "</div>"
      ],
      "text/plain": [
       "          Unnamed: 0_x  order_id  user_id  order_number  orders_day_of_week  \\\n",
       "7805             24261   1435153     1519            26                   2   \n",
       "7806             24267   1066435     1519            32                   3   \n",
       "15143            39073   1697208     2409            33                   1   \n",
       "20264            57126    965345     3531            27                   2   \n",
       "20497            61481   2943740     3793             1                   2   \n",
       "...                ...       ...      ...           ...                 ...   \n",
       "32304980        854612   3265389    51346             4                   1   \n",
       "32309063       2186800   1179092   131671            12                   4   \n",
       "32311991        658416   1226705    39667             7                   2   \n",
       "32331229       1583942   3000037    95105             2                   4   \n",
       "32331230       1583944   2741225    95105             4                   5   \n",
       "\n",
       "          order_hour_of_day  days_since_last_order  product_id  \\\n",
       "7805                     11                    6.0     21553.0   \n",
       "7806                     10                    5.0     21553.0   \n",
       "15143                    19                    5.0     21553.0   \n",
       "20264                    19                    8.0     33664.0   \n",
       "20497                     9                    NaN     21553.0   \n",
       "...                     ...                    ...         ...   \n",
       "32304980                 17                   13.0     33664.0   \n",
       "32309063                  9                   15.0     33664.0   \n",
       "32311991                 15                   20.0     33664.0   \n",
       "32331229                 19                   22.0     33664.0   \n",
       "32331230                 12                    2.0     33664.0   \n",
       "\n",
       "          add_to_cart_order  reordered  ...         Frequency_flag first_name  \\\n",
       "7805                   15.0        0.0  ...      Frequent customer      Craig   \n",
       "7806                   28.0        1.0  ...      Frequent customer      Craig   \n",
       "15143                   1.0        0.0  ...      Frequent customer     Nicole   \n",
       "20264                   2.0        0.0  ...       Regular customer      Alice   \n",
       "20497                   3.0        0.0  ...       Regular customer      Jerry   \n",
       "...                     ...        ...  ...                    ...        ...   \n",
       "32304980                2.0        1.0  ...       Regular customer        nan   \n",
       "32309063                1.0        0.0  ...       Regular customer      Diana   \n",
       "32311991               14.0        0.0  ...  Non-Frequent customer     Johnny   \n",
       "32331229                4.0        0.0  ...      Frequent customer  Catherine   \n",
       "32331230                3.0        1.0  ...      Frequent customer  Catherine   \n",
       "\n",
       "          last_name  gender           state age date_joined  \\\n",
       "7805          Clark    Male    Rhode Island  68    3/4/2020   \n",
       "7806          Clark    Male    Rhode Island  68    3/4/2020   \n",
       "15143      Odonnell  Female          Hawaii  55  11/11/2018   \n",
       "20264       Compton  Female          Hawaii  80   10/6/2019   \n",
       "20497         Allen    Male       Louisiana  59   8/23/2019   \n",
       "...             ...     ...             ...  ..         ...   \n",
       "32304980      Gould    Male    Rhode Island  58   1/25/2019   \n",
       "32309063     Hansen  Female    Rhode Island  35    8/4/2018   \n",
       "32311991      Colon    Male    Rhode Island  78    5/8/2019   \n",
       "32331229   Browning  Female  South Carolina  48   1/18/2017   \n",
       "32331230   Browning  Female  South Carolina  48   1/18/2017   \n",
       "\n",
       "         number_of_dependants     family_status  income  \n",
       "7805                        0  divorced/widowed  177864  \n",
       "7806                        0  divorced/widowed  177864  \n",
       "15143                       2           married  230074  \n",
       "20264                       2           married  233776  \n",
       "20497                       3           married  182933  \n",
       "...                       ...               ...     ...  \n",
       "32304980                    1           married  207497  \n",
       "32309063                    0            single   86490  \n",
       "32311991                    2           married  195077  \n",
       "32331229                    2           married  398880  \n",
       "32331230                    2           married  398880  \n",
       "\n",
       "[5127 rows x 36 columns]"
      ]
     },
     "execution_count": 52,
     "metadata": {},
     "output_type": "execute_result"
    }
   ],
   "source": [
    "df_merged.loc[df_merged['prices'] > 100]"
   ]
  },
  {
   "cell_type": "code",
   "execution_count": 53,
   "id": "4e6852d5",
   "metadata": {},
   "outputs": [],
   "source": [
    "df_merged.loc[df_merged['prices'] > 100, 'prices'] = np.nan"
   ]
  },
  {
   "cell_type": "code",
   "execution_count": 54,
   "id": "733ce601",
   "metadata": {},
   "outputs": [
    {
     "data": {
      "text/plain": [
       "25.0"
      ]
     },
     "execution_count": 54,
     "metadata": {},
     "output_type": "execute_result"
    }
   ],
   "source": [
    "df_merged['prices'].max()"
   ]
  },
  {
   "cell_type": "code",
   "execution_count": 55,
   "id": "d1cdc8bd",
   "metadata": {},
   "outputs": [
    {
     "data": {
      "image/png": "[encoded data removed]",
      "text/plain": [
       "<Figure size 432x288 with 1 Axes>"
      ]
     },
     "metadata": {
      "needs_background": "light"
     },
     "output_type": "display_data"
    }
   ],
   "source": [
    "# Create a histograms\n",
    "histogram1 = df_merged['prices'].plot.hist(bins = 70)"
   ]
  },
  {
   "cell_type": "code",
   "execution_count": 56,
   "id": "93a8a1f9",
   "metadata": {},
   "outputs": [
    {
     "data": {
      "image/png": "[encoded data removed]",
      "text/plain": [
       "<Figure size 432x288 with 1 Axes>"
      ]
     },
     "metadata": {
      "needs_background": "light"
     },
     "output_type": "display_data"
    }
   ],
   "source": [
    "scatterplot_1 = sns.scatterplot(x = 'prices', y = 'prices', data = df_merged)"
   ]
  },
  {
   "cell_type": "code",
   "execution_count": 57,
   "id": "3c00d9dc",
   "metadata": {},
   "outputs": [],
   "source": [
    "# Creating Line Chart\n",
    "df = df_merged[:2000000]"
   ]
  },
  {
   "cell_type": "code",
   "execution_count": 58,
   "id": "7a1ae926",
   "metadata": {},
   "outputs": [],
   "source": [
    "# Set the seed for the random number generator\n",
    "# 70/30 split\n",
    "np.random.seed(4)\n",
    "dev = np.random.rand(len(df_merged)) <= 0.7"
   ]
  },
  {
   "cell_type": "code",
   "execution_count": 59,
   "id": "59860cac",
   "metadata": {},
   "outputs": [
    {
     "data": {
      "text/plain": [
       "array([False,  True, False, ...,  True,  True,  True])"
      ]
     },
     "execution_count": 59,
     "metadata": {},
     "output_type": "execute_result"
    }
   ],
   "source": [
    "# Create a new list called dev\n",
    "dev"
   ]
  },
  {
   "cell_type": "code",
   "execution_count": 60,
   "id": "fe526376",
   "metadata": {},
   "outputs": [
    {
     "data": {
      "text/plain": [
       "array([0.14652875, 0.19185561, 0.99657905, 0.59139971, 0.45592832,\n",
       "       0.56184089, 0.40007843, 0.31079573, 0.35588093, 0.63298758])"
      ]
     },
     "execution_count": 60,
     "metadata": {},
     "output_type": "execute_result"
    }
   ],
   "source": [
    "np.random.rand(10)"
   ]
  },
  {
   "cell_type": "code",
   "execution_count": 61,
   "id": "e7d3d56b",
   "metadata": {},
   "outputs": [],
   "source": [
    "# Store 70 percent in big sample, and 30 percent in small sample\n",
    "big = df_merged[dev]\n",
    "small = df_merged[~dev]"
   ]
  },
  {
   "cell_type": "code",
   "execution_count": 62,
   "id": "d8519175",
   "metadata": {},
   "outputs": [
    {
     "data": {
      "text/plain": [
       "32406041"
      ]
     },
     "execution_count": 62,
     "metadata": {},
     "output_type": "execute_result"
    }
   ],
   "source": [
    "#checking the execution for accuraccy\n",
    "len(df_merged)"
   ]
  },
  {
   "cell_type": "code",
   "execution_count": 63,
   "id": "b1d84583",
   "metadata": {},
   "outputs": [
    {
     "data": {
      "text/plain": [
       "32406041"
      ]
     },
     "execution_count": 63,
     "metadata": {},
     "output_type": "execute_result"
    }
   ],
   "source": [
    "len(big) + len(small)"
   ]
  },
  {
   "cell_type": "code",
   "execution_count": 64,
   "id": "d1521b65",
   "metadata": {},
   "outputs": [],
   "source": [
    "# select the columns needed line plot\n",
    "df_merged_2 = small[['orders_day_of_week', 'prices']]"
   ]
  },
  {
   "cell_type": "code",
   "execution_count": 65,
   "id": "e4a01bef",
   "metadata": {},
   "outputs": [
    {
     "data": {
      "image/png": "[encoded data removed]",
      "text/plain": [
       "<Figure size 432x288 with 1 Axes>"
      ]
     },
     "metadata": {
      "needs_background": "light"
     },
     "output_type": "display_data"
    }
   ],
   "source": [
    "line = sns.lineplot(data = df_merged_2, x = 'orders_day_of_week', y = 'prices')"
   ]
  },
  {
   "cell_type": "markdown",
   "id": "efc67281",
   "metadata": {},
   "source": [
    "# 05. Create a histogram of the \"order_hour_of_day\" column"
   ]
  },
  {
   "cell_type": "code",
   "execution_count": 66,
   "id": "a9cd49f5",
   "metadata": {},
   "outputs": [
    {
     "data": {
      "text/plain": [
       "10    2761862\n",
       "11    2736242\n",
       "14    2689251\n",
       "15    2662246\n",
       "13    2661057\n",
       "12    2618613\n",
       "16    2535313\n",
       "9     2454273\n",
       "17    2087721\n",
       "8     1718182\n",
       "18    1636566\n",
       "19    1258352\n",
       "20     976182\n",
       "7      891082\n",
       "21     795658\n",
       "22     634247\n",
       "23     402335\n",
       "6      290500\n",
       "0      218786\n",
       "1      115706\n",
       "5       87964\n",
       "2       69377\n",
       "4       53245\n",
       "3       51281\n",
       "Name: order_hour_of_day, dtype: int64"
      ]
     },
     "execution_count": 66,
     "metadata": {},
     "output_type": "execute_result"
    }
   ],
   "source": [
    "df_merged['order_hour_of_day'].value_counts()"
   ]
  },
  {
   "cell_type": "code",
   "execution_count": 67,
   "id": "afe7c8f2",
   "metadata": {},
   "outputs": [
    {
     "data": {
      "image/png": "[encoded data removed]",
      "text/plain": [
       "<Figure size 432x288 with 1 Axes>"
      ]
     },
     "metadata": {
      "needs_background": "light"
     },
     "output_type": "display_data"
    }
   ],
   "source": [
    "histogram2 = df_merged['order_hour_of_day'].plot.hist(bins = 50)"
   ]
  },
  {
   "cell_type": "markdown",
   "id": "2992ba27",
   "metadata": {},
   "source": [
    "The above histogram showed the frequency of orders placed at each hour of a day. The x-axis represents the hours (from 0-23) and the y-axis represents the number of total orders placed on each of those hours (in millions of orders). The maximum orders happened at 10am - 2761862."
   ]
  },
  {
   "cell_type": "markdown",
   "id": "2b27f34e",
   "metadata": {},
   "source": [
    "# 06. Create a bar chart from the \"loyalty_flag\" column"
   ]
  },
  {
   "cell_type": "code",
   "execution_count": 68,
   "id": "0f5a7dd5",
   "metadata": {},
   "outputs": [
    {
     "data": {
      "image/png": "[encoded data removed]",
      "text/plain": [
       "<Figure size 432x288 with 1 Axes>"
      ]
     },
     "metadata": {
      "needs_background": "light"
     },
     "output_type": "display_data"
    }
   ],
   "source": [
    "bar2 = df_merged['Frequency_flag'].value_counts().plot.bar(color = ['red', 'green', 'blue'])"
   ]
  },
  {
   "cell_type": "markdown",
   "id": "e05f3ea9",
   "metadata": {},
   "source": [
    "The above bar chart showed the largest group of customers are frequent customers, followed by regular customers and non-frequent customers. "
   ]
  },
  {
   "cell_type": "markdown",
   "id": "1bdf26ac",
   "metadata": {},
   "source": [
    "# 07. Check that there is a difference of expenditure (the \"prices\" column depending on the hour of the day"
   ]
  },
  {
   "cell_type": "code",
   "execution_count": 72,
   "id": "52b31bc4",
   "metadata": {},
   "outputs": [],
   "source": [
    "# select the columns needed line plot\n",
    "df_merged_3 = small[['order_hour_of_day', 'prices']]"
   ]
  },
  {
   "cell_type": "code",
   "execution_count": 73,
   "id": "686c7b3d",
   "metadata": {},
   "outputs": [
    {
     "data": {
      "image/png": "[encoded data removed]",
      "text/plain": [
       "<Figure size 432x288 with 1 Axes>"
      ]
     },
     "metadata": {
      "needs_background": "light"
     },
     "output_type": "display_data"
    }
   ],
   "source": [
    "line_2 = sns.lineplot(data = df_merged_3, x = 'order_hour_of_day', y = 'prices')"
   ]
  },
  {
   "cell_type": "markdown",
   "id": "bc75fd66",
   "metadata": {},
   "source": [
    "# 08. Determine the connection between age and family situation by creating a line chart"
   ]
  },
  {
   "cell_type": "code",
   "execution_count": 74,
   "id": "66b9bdfb",
   "metadata": {},
   "outputs": [],
   "source": [
    "df_merged_4 = small[['age', 'number_of_dependants']]"
   ]
  },
  {
   "cell_type": "code",
   "execution_count": 75,
   "id": "582379d3",
   "metadata": {},
   "outputs": [
    {
     "data": {
      "image/png": "[encoded data removed]",
      "text/plain": [
       "<Figure size 432x288 with 1 Axes>"
      ]
     },
     "metadata": {
      "needs_background": "light"
     },
     "output_type": "display_data"
    }
   ],
   "source": [
    "line_3 = sns.lineplot(data = df_merged_4, x = 'age', y = 'number_of_dependants')"
   ]
  },
  {
   "cell_type": "markdown",
   "id": "5f101f31",
   "metadata": {},
   "source": [
    "The line chart presented the relationship between the customer's age and the number of dependents. The line showed a distinct relationship between age of the customers and the number of dependents.\n"
   ]
  },
  {
   "cell_type": "markdown",
   "id": "2883d420",
   "metadata": {},
   "source": [
    "# 09. To explore the connection between age and spending power using scatterplot. "
   ]
  },
  {
   "cell_type": "code",
   "execution_count": 76,
   "id": "cede4de5",
   "metadata": {},
   "outputs": [
    {
     "data": {
      "image/png": "[encoded data removed]",
      "text/plain": [
       "<Figure size 432x288 with 1 Axes>"
      ]
     },
     "metadata": {
      "needs_background": "light"
     },
     "output_type": "display_data"
    }
   ],
   "source": [
    "# Create a scatterplot\n",
    "scatterplot_2 = sns.scatterplot(x = 'age', y = 'income', data = df_merged)"
   ]
  },
  {
   "cell_type": "markdown",
   "id": "d82aa373",
   "metadata": {},
   "source": [
    "1. Majority of customers between aged 20-40 have a spending power of USD 200,000.\n",
    "2. Customers aged above 40 years old have a spending power of USD 300,000.\n",
    "3. Customers aged between 20-40 years old could spend up to USD 400,000.\n",
    "4. Customers aged 40 and above could spend up to USD 600,000."
   ]
  },
  {
   "cell_type": "markdown",
   "id": "f5e2e87b",
   "metadata": {},
   "source": [
    "# 10. Export Visualisation as \"png\""
   ]
  },
  {
   "cell_type": "code",
   "execution_count": 77,
   "id": "466845ba",
   "metadata": {},
   "outputs": [],
   "source": [
    "# Save bar - orders day of week\n",
    "bar.figure.savefig(os.path.join(path, '04 Analysis', 'Visualisations', 'bar_orders_dow.png'))"
   ]
  },
  {
   "cell_type": "code",
   "execution_count": 78,
   "id": "e0536a6e",
   "metadata": {},
   "outputs": [],
   "source": [
    "# Save histogram - prices\n",
    "histogram1.figure.savefig(os.path.join(path, '04 Analysis', 'Visualisations', 'prices.png'))"
   ]
  },
  {
   "cell_type": "code",
   "execution_count": 79,
   "id": "4c27d317",
   "metadata": {},
   "outputs": [],
   "source": [
    "# Save scatterplot_1 - prices\n",
    "scatterplot_1.figure.savefig(os.path.join(path, '04 Analysis', 'Visualisations', 'scatterplot_1.png'))"
   ]
  },
  {
   "cell_type": "code",
   "execution_count": 80,
   "id": "523ac700",
   "metadata": {},
   "outputs": [],
   "source": [
    "# Save line - orders_day_of_week vs prices\n",
    "line.figure.savefig(os.path.join(path, '04 Analysis', 'Visualisations', 'orders_day_of_week.png'))"
   ]
  },
  {
   "cell_type": "code",
   "execution_count": 81,
   "id": "408d6618",
   "metadata": {},
   "outputs": [],
   "source": [
    "# Save histogram2 - order hour of day\n",
    "histogram2.figure.savefig(os.path.join(path, '04 Analysis', 'Visualisations', 'order_hour_of_day.png'))"
   ]
  },
  {
   "cell_type": "code",
   "execution_count": 82,
   "id": "8aaca0ee",
   "metadata": {},
   "outputs": [],
   "source": [
    "# Save bar2 - orders day of week\n",
    "bar2.figure.savefig(os.path.join(path, '04 Analysis', 'Visualisations', 'loyalty_customer.png'))"
   ]
  },
  {
   "cell_type": "code",
   "execution_count": 83,
   "id": "22828fa4",
   "metadata": {},
   "outputs": [],
   "source": [
    "# Save line - orders_hour_of_day vs prices\n",
    "line_2.figure.savefig(os.path.join(path, '04 Analysis', 'Visualisations', 'order_hour_of_day_line.png'))"
   ]
  },
  {
   "cell_type": "code",
   "execution_count": 84,
   "id": "843eed6f",
   "metadata": {},
   "outputs": [],
   "source": [
    "# Save line - age vs dependant\n",
    "line_3.figure.savefig(os.path.join(path, '04 Analysis', 'Visualisations', 'age_vs_dependant_line.png'))"
   ]
  },
  {
   "cell_type": "code",
   "execution_count": 85,
   "id": "22cf8207",
   "metadata": {},
   "outputs": [],
   "source": [
    "# Save scatterplot_2 - age vs spending power\n",
    "scatterplot_2.figure.savefig(os.path.join(path, '04 Analysis', 'Visualisations', 'age_vs_spending_power.png'))"
   ]
  },
  {
   "cell_type": "code",
   "execution_count": null,
   "id": "843d019c",
   "metadata": {},
   "outputs": [],
   "source": []
  }
 ],
 "metadata": {
  "kernelspec": {
   "display_name": "Python 3 (ipykernel)",
   "language": "python",
   "name": "python3"
  },
  "language_info": {
   "codemirror_mode": {
    "name": "ipython",
    "version": 3
   },
   "file_extension": ".py",
   "mimetype": "text/x-python",
   "name": "python",
   "nbconvert_exporter": "python",
   "pygments_lexer": "ipython3",
   "version": "3.9.12"
  }
 },
 "nbformat": 4,
 "nbformat_minor": 5
}
